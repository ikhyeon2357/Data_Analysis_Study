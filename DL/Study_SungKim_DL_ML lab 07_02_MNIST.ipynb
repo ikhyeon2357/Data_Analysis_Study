{
 "cells": [
  {
   "cell_type": "code",
   "execution_count": 1,
   "id": "03e220ac-1356-441e-a853-4e5ac1b1ab60",
   "metadata": {},
   "outputs": [],
   "source": [
    "import tensorflow as tf_load_data\n",
    "from keras.utils import np_utils\n",
    "(x_train, y_train), (x_test, y_test) = tf_load_data.keras.datasets.mnist.load_data()"
   ]
  },
  {
   "cell_type": "code",
   "execution_count": 2,
   "id": "44e6240f-e1bc-47d5-a5d1-c35ad543c8d5",
   "metadata": {},
   "outputs": [
    {
     "name": "stdout",
     "output_type": "stream",
     "text": [
      "(60000, 28, 28)\n",
      "(60000,)\n",
      "(10000, 28, 28)\n",
      "(10000,)\n"
     ]
    }
   ],
   "source": [
    "print(x_train.shape)\n",
    "print(y_train.shape)\n",
    "print(x_test.shape)\n",
    "print(y_test.shape)"
   ]
  },
  {
   "cell_type": "code",
   "execution_count": 3,
   "id": "3dc41859-666f-4bda-a6e5-3985e83eeb4f",
   "metadata": {},
   "outputs": [],
   "source": [
    "# 예제용 reshape\n",
    "x_train, x_test = x_train/255.0, x_test/255.0   #Feature scaling 적용, 그대록 학습시 문제됨...\n",
    "\n",
    "# [[], [], ...] --> [...]\n",
    "x_train_rs = x_train.reshape(x_train.shape[0], 784).astype('float32')\n",
    "x_test_rs = x_test.reshape(x_test.shape[0], 784).astype('float32')\n",
    "\n",
    "# one hot encoding\n",
    "y_train_onehot = np_utils.to_categorical(y_train)\n",
    "y_test_onehot = np_utils.to_categorical(y_test)"
   ]
  },
  {
   "cell_type": "code",
   "execution_count": 4,
   "id": "a833f894-7501-4c6c-bf5d-dbd3bce6a5f7",
   "metadata": {},
   "outputs": [
    {
     "name": "stdout",
     "output_type": "stream",
     "text": [
      "(60000, 784)\n",
      "(60000, 10)\n",
      "(10000, 10)\n",
      "(10000, 784)\n"
     ]
    }
   ],
   "source": [
    "print(x_train_rs.shape)\n",
    "print(y_train_onehot.shape)\n",
    "print(y_test_onehot.shape)\n",
    "print(x_test_rs.shape)"
   ]
  },
  {
   "cell_type": "code",
   "execution_count": 5,
   "id": "5c2f01eb-b03b-431a-85c9-7aa618dbaa6b",
   "metadata": {},
   "outputs": [
    {
     "name": "stdout",
     "output_type": "stream",
     "text": [
      "7\n",
      "[0. 0. 0. 0. 0. 0. 0. 1. 0. 0.]\n"
     ]
    }
   ],
   "source": [
    "print(y_test[0])\n",
    "print(y_test_onehot[0])"
   ]
  },
  {
   "cell_type": "code",
   "execution_count": 6,
   "id": "7216854e-f003-4bac-9193-8e923e31fd9e",
   "metadata": {},
   "outputs": [
    {
     "name": "stdout",
     "output_type": "stream",
     "text": [
      "WARNING:tensorflow:From C:\\Users\\kih\\Anaconda3\\envs\\tf_py36\\lib\\site-packages\\tensorflow\\python\\compat\\v2_compat.py:96: disable_resource_variables (from tensorflow.python.ops.variable_scope) is deprecated and will be removed in a future version.\n",
      "Instructions for updating:\n",
      "non-resource variables are not supported in the long term\n"
     ]
    }
   ],
   "source": [
    "import numpy as np\n",
    "#import tensorflow as tf\n",
    "import tensorflow.compat.v1 as tf\n",
    "tf.disable_v2_behavior()\n",
    "\n",
    "import matplotlib.pyplot as plt\n",
    "import random"
   ]
  },
  {
   "cell_type": "code",
   "execution_count": 7,
   "id": "14804fa5-4a50-43b0-b87a-4f6d00e3f8a2",
   "metadata": {},
   "outputs": [],
   "source": [
    "tf.set_random_seed(777)"
   ]
  },
  {
   "cell_type": "code",
   "execution_count": 8,
   "id": "fb8a27d8-0785-4714-ac07-e55fe5018b4e",
   "metadata": {},
   "outputs": [],
   "source": [
    "#from tensorflow.examples.tutorials.mnist import input_data\n",
    "# Check out https://www.tensorflow.org/get_started/mnist/beginners for\n",
    "# more information about the mnist dataset\n",
    "#mnist = input_data.read_data_sets(\"MNIST_data/\", one_hot=True)\n",
    "\n",
    "nb_classes = 10\n",
    "\n",
    "# MNIST data image of shape 28 * 28 = 784\n",
    "X = tf.placeholder(tf.float32, [None, 784])\n",
    "# 0 - 9 digits recognition = 10 classes\n",
    "Y = tf.placeholder(tf.float32, [None, nb_classes])\n",
    "\n",
    "W = tf.Variable(tf.random_normal([784, nb_classes]))\n",
    "b = tf.Variable(tf.random_normal([nb_classes]))\n",
    "\n",
    "# Hypothesis (using softmax)\n",
    "hypothesis = tf.nn.softmax(tf.matmul(X, W) + b)\n",
    "\n",
    "cost = tf.reduce_mean(-tf.reduce_sum(Y * tf.log(hypothesis), axis=1))\n",
    "train = tf.train.GradientDescentOptimizer(learning_rate=0.1).minimize(cost)\n",
    "\n",
    "# Test model\n",
    "is_correct = tf.equal(tf.argmax(hypothesis, 1), tf.argmax(Y, 1))\n",
    "# Calculate accuracy\n",
    "accuracy = tf.reduce_mean(tf.cast(is_correct, tf.float32))"
   ]
  },
  {
   "cell_type": "code",
   "execution_count": 9,
   "id": "f2b78e65-57c1-4f8a-9618-37b523f2343f",
   "metadata": {},
   "outputs": [],
   "source": [
    "# parameters\n",
    "num_epochs = 15\n",
    "batch_size = 100\n",
    "#num_iterations = int(mnist.train.num_examples / batch_size)\n",
    "num_iterations = int(x_train.shape[0] / batch_size)"
   ]
  },
  {
   "cell_type": "code",
   "execution_count": 10,
   "id": "eccbef21-2b4c-4597-b1d0-15967cc814f3",
   "metadata": {},
   "outputs": [],
   "source": [
    "# 기존 next_bath 함수 없어진듯...\n",
    "def next_batch(num, data, labels):\n",
    "    idx = np.arange(0 , len(data))\n",
    "    np.random.shuffle(idx)\n",
    "    idx = idx[:num]\n",
    "    data_shuffle = [data[i] for i in idx]\n",
    "    labels_shuffle = [labels[i] for i in idx]\n",
    "\n",
    "    return np.asarray(data_shuffle), np.asarray(labels_shuffle)"
   ]
  },
  {
   "cell_type": "code",
   "execution_count": 12,
   "id": "15b1cd26-1ae9-4c48-a7ed-2a701704559a",
   "metadata": {},
   "outputs": [
    {
     "name": "stdout",
     "output_type": "stream",
     "text": [
      "Epoch: 0001, Cost: 2.838817197\n",
      "Epoch: 0002, Cost: 1.061063932\n",
      "Epoch: 0003, Cost: 0.849337753\n",
      "Epoch: 0004, Cost: 0.726422139\n",
      "Epoch: 0005, Cost: 0.660165201\n",
      "Epoch: 0006, Cost: 0.617030874\n",
      "Epoch: 0007, Cost: 0.579515050\n",
      "Epoch: 0008, Cost: 0.562834766\n",
      "Epoch: 0009, Cost: 0.556114095\n",
      "Epoch: 0010, Cost: 0.514816322\n",
      "Epoch: 0011, Cost: 0.491332874\n",
      "Epoch: 0012, Cost: 0.485599038\n",
      "Epoch: 0013, Cost: 0.472362699\n",
      "Epoch: 0014, Cost: 0.460276226\n",
      "Epoch: 0015, Cost: 0.460438907\n",
      "Learning finished\n",
      "Accuracy:  0.8931\n",
      "Label:  [2]\n",
      "Prediction:  [2]\n"
     ]
    },
    {
     "data": {
      "image/png": "[encoded data removed]",
      "text/plain": [
       "<Figure size 432x288 with 1 Axes>"
      ]
     },
     "metadata": {
      "needs_background": "light"
     },
     "output_type": "display_data"
    }
   ],
   "source": [
    "with tf.Session() as sess:\n",
    "    # Initialize TensorFlow variables\n",
    "    sess.run(tf.global_variables_initializer())\n",
    "    # Training cycle\n",
    "    for epoch in range(num_epochs):\n",
    "        avg_cost = 0\n",
    "\n",
    "        for i in range(num_iterations):\n",
    "            #batch_xs, batch_ys = mnist.train.next_batch(batch_size)\n",
    "            #_, cost_val = sess.run([train, cost], feed_dict={X: batch_xs, Y: batch_ys})\n",
    "            batch_xs, batch_ys = next_batch(batch_size, x_train_rs, y_train_onehot)\n",
    "            _, cost_val = sess.run([train, cost], feed_dict={X: batch_xs, Y: batch_ys})\n",
    "            #print(cost_val)\n",
    "            #print(num_iterations)\n",
    "            avg_cost += cost_val / num_iterations\n",
    "\n",
    "        print(\"Epoch: {:04d}, Cost: {:.9f}\".format(epoch + 1, avg_cost))\n",
    "\n",
    "    print(\"Learning finished\")\n",
    "    \n",
    "    # Test the model using test sets\n",
    "    print(\n",
    "        \"Accuracy: \",\n",
    "        accuracy.eval(\n",
    "            #session=sess, feed_dict={X: mnist.test.images, Y: mnist.test.labels}\n",
    "            session=sess, feed_dict={X: x_test_rs, Y: y_test_onehot}\n",
    "        ),\n",
    "    )\n",
    "    \n",
    "    # Get one and predict\n",
    "    #r = random.randint(0, mnist.test.num_examples - 1)\n",
    "    r = random.randint(0, x_test.shape[0] - 1)\n",
    "    \n",
    "    #print(\"Label: \", sess.run(tf.argmax(mnist.test.labels[r : r + 1], 1)))\n",
    "    print(\"Label: \", sess.run(tf.argmax(y_test_onehot[r : r + 1], 1)))\n",
    "    print(\n",
    "        \"Prediction: \",\n",
    "        #sess.run(tf.argmax(hypothesis, 1), feed_dict={X: mnist.test.images[r : r + 1]}),\n",
    "        sess.run(tf.argmax(hypothesis, 1), feed_dict={X: x_test_rs[r : r + 1]}),\n",
    "    )\n",
    "\n",
    "    plt.imshow(\n",
    "        #mnist.test.images[r : r + 1].reshape(28, 28),\n",
    "        x_test_rs[r : r + 1].reshape(28, 28),\n",
    "        cmap=\"Greys\",\n",
    "        interpolation=\"nearest\",\n",
    "    )\n",
    "    plt.show()"
   ]
  },
  {
   "cell_type": "code",
   "execution_count": null,
   "id": "a039bd0d-26a3-40f8-a2ac-015422175d29",
   "metadata": {},
   "outputs": [],
   "source": []
  }
 ],
 "metadata": {
  "kernelspec": {
   "display_name": "Python 3",
   "language": "python",
   "name": "python3"
  },
  "language_info": {
   "codemirror_mode": {
    "name": "ipython",
    "version": 3
   },
   "file_extension": ".py",
   "mimetype": "text/x-python",
   "name": "python",
   "nbconvert_exporter": "python",
   "pygments_lexer": "ipython3",
   "version": "3.6.13"
  }
 },
 "nbformat": 4,
 "nbformat_minor": 5
}
