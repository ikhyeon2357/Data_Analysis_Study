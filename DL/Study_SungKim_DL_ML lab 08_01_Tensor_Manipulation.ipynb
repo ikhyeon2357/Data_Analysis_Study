{
 "cells": [
  {
   "cell_type": "code",
   "execution_count": 3,
   "id": "7216854e-f003-4bac-9193-8e923e31fd9e",
   "metadata": {},
   "outputs": [
    {
     "name": "stderr",
     "output_type": "stream",
     "text": [
      "C:\\Users\\kih\\Anaconda3\\envs\\tf_py36\\lib\\site-packages\\tensorflow\\python\\client\\session.py:1761: UserWarning: An interactive session is already active. This can cause out-of-memory errors in some cases. You must explicitly call `InteractiveSession.close()` to release resources held by the other session(s).\n",
      "  warnings.warn('An interactive session is already active. This can '\n"
     ]
    }
   ],
   "source": [
    "#import tensorflow as tf\n",
    "import tensorflow.compat.v1 as tf\n",
    "tf.disable_v2_behavior()\n",
    "\n",
    "import numpy as np\n",
    "import pprint # 예쁜 출력\n",
    "tf.set_random_seed(777)  # for reproducibility\n",
    "\n",
    "pp = pprint.PrettyPrinter(indent=4)\n",
    "sess = tf.InteractiveSession()"
   ]
  },
  {
   "cell_type": "markdown",
   "id": "6914fe8e-32de-4313-89b1-758acbfa93db",
   "metadata": {},
   "source": [
    "# 1차원 Arraym"
   ]
  },
  {
   "cell_type": "code",
   "execution_count": 7,
   "id": "49b77b93-335d-496d-a703-8cc357aa616f",
   "metadata": {},
   "outputs": [
    {
     "name": "stdout",
     "output_type": "stream",
     "text": [
      "array([0., 1., 2., 3., 4., 5., 6.])\n",
      "1\n",
      "(7,)\n",
      "0.0 1.0 6.0 [2. 3. 4.] [4. 5.] [0. 1.] [3. 4. 5. 6.]\n"
     ]
    }
   ],
   "source": [
    "t = np.array([0., 1., 2., 3., 4., 5., 6.])\n",
    "pp.pprint(t)\n",
    "print(t.ndim) # rank(?), 1차원 array\n",
    "print(t.shape) # shape\n",
    "print(t[0], t[1], t[-1], t[2:5], t[4:-1], t[:2], t[3:]) # slince"
   ]
  },
  {
   "cell_type": "markdown",
   "id": "94a41eb1-dfee-46fc-beff-dfc57b880598",
   "metadata": {},
   "source": [
    "# 2차원 Array"
   ]
  },
  {
   "cell_type": "code",
   "execution_count": 9,
   "id": "4bbeb3ec-1568-4168-807c-7b98c25b3478",
   "metadata": {},
   "outputs": [
    {
     "name": "stdout",
     "output_type": "stream",
     "text": [
      "array([[ 1.,  2.,  3.],\n",
      "       [ 4.,  5.,  6.],\n",
      "       [ 7.,  8.,  9.],\n",
      "       [10., 11., 12.]])\n",
      "2\n",
      "(4, 3)\n"
     ]
    }
   ],
   "source": [
    "t = np.array([[1., 2., 3.], [4., 5., 6.], [7., 8., 9.], [10., 11., 12.]])\n",
    "pp.pprint(t)\n",
    "print(t.ndim) # rank\n",
    "print(t.shape) # shape"
   ]
  },
  {
   "cell_type": "markdown",
   "id": "44072832-d559-4c68-83a3-8b7e698cc8ad",
   "metadata": {},
   "source": [
    "# Shape, Rank, Axis"
   ]
  },
  {
   "cell_type": "code",
   "execution_count": 13,
   "id": "20cbd075-3910-4b12-82f0-9f510b5916c4",
   "metadata": {},
   "outputs": [
    {
     "data": {
      "text/plain": [
       "array([4])"
      ]
     },
     "execution_count": 13,
     "metadata": {},
     "output_type": "execute_result"
    }
   ],
   "source": [
    "t = tf.constant([1,2,3,4])\n",
    "tf.shape(t).eval() # [1. ,2. ,3. ,4. ](1차원 array)"
   ]
  },
  {
   "cell_type": "code",
   "execution_count": 14,
   "id": "39f0bd3f-5dab-40be-95a5-c91a1c91107a",
   "metadata": {},
   "outputs": [
    {
     "data": {
      "text/plain": [
       "array([2, 2])"
      ]
     },
     "execution_count": 14,
     "metadata": {},
     "output_type": "execute_result"
    }
   ],
   "source": [
    "t = tf.constant([[1,2],\n",
    "                 [3,4]])\n",
    "tf.shape(t).eval() # 2차원"
   ]
  },
  {
   "cell_type": "code",
   "execution_count": 15,
   "id": "44f2bec9-9c1a-4056-a91e-45539846e19d",
   "metadata": {},
   "outputs": [
    {
     "data": {
      "text/plain": [
       "array([1, 2, 3, 4])"
      ]
     },
     "execution_count": 15,
     "metadata": {},
     "output_type": "execute_result"
    }
   ],
   "source": [
    "t = tf.constant([[[[1, 2, 3, 4], [5, 6, 7, 8], [9, 10, 11, 12]],[[13, 14, 15, 16], [17, 18, 19, 20], [21, 22, 23, 24]]]])\n",
    "tf.shape(t).eval() # 4차원, [axis 0, axis 1, axis 2, axis 3]"
   ]
  },
  {
   "cell_type": "code",
   "execution_count": 16,
   "id": "924ff094-951b-47fc-8ef4-121c16dec2fc",
   "metadata": {},
   "outputs": [
    {
     "data": {
      "text/plain": [
       "[[[[1, 2, 3, 4], [5, 6, 7, 8], [9, 10, 11, 12]],\n",
       "  [[13, 14, 15, 16], [17, 18, 19, 20], [21, 22, 23, 24]]]]"
      ]
     },
     "execution_count": 16,
     "metadata": {},
     "output_type": "execute_result"
    }
   ],
   "source": [
    "[\n",
    "    [\n",
    "        [\n",
    "            [1,2,3,4], \n",
    "            [5,6,7,8],\n",
    "            [9,10,11,12]\n",
    "        ],\n",
    "        [\n",
    "            [13,14,15,16],\n",
    "            [17,18,19,20], \n",
    "            [21,22,23,24]\n",
    "        ]\n",
    "    ]\n",
    "]"
   ]
  },
  {
   "cell_type": "markdown",
   "id": "1fc7e4b6-3ce4-4b2e-bc18-f269fa398913",
   "metadata": {},
   "source": [
    "# Matmul VS multiply"
   ]
  },
  {
   "cell_type": "code",
   "execution_count": 19,
   "id": "50c4b39b-1dc8-4c7b-a4d7-d70448fd3463",
   "metadata": {},
   "outputs": [
    {
     "name": "stdout",
     "output_type": "stream",
     "text": [
      "(1, 2)\n",
      "(2, 1)\n"
     ]
    },
    {
     "data": {
      "text/plain": [
       "array([[12.]], dtype=float32)"
      ]
     },
     "execution_count": 19,
     "metadata": {},
     "output_type": "execute_result"
    }
   ],
   "source": [
    "matrix1 = tf.constant([[3., 3.]])\n",
    "matrix2 = tf.constant([[2.],[2.]])\n",
    "print(matrix1.shape)\n",
    "print(matrix2.shape)\n",
    "tf.matmul(matrix1, matrix2).eval()\n",
    "# (matrix1*matrix2).eval() # 그냥 곱하면 안됨, matrix 계산 아님\n",
    "# (3, 3) * (2  = [12]\n",
    "#           2)"
   ]
  },
  {
   "cell_type": "markdown",
   "id": "537e6ecc-df59-4041-b9c0-255e85e95e90",
   "metadata": {},
   "source": [
    "# Watch out broadcasting"
   ]
  },
  {
   "cell_type": "code",
   "execution_count": 24,
   "id": "4c9f0589-3150-434f-91ed-b40807973d5a",
   "metadata": {},
   "outputs": [
    {
     "name": "stdout",
     "output_type": "stream",
     "text": [
      "[[5. 5.]\n",
      " [5. 5.]]\n",
      "====================================================================================================\n",
      "[[5. 5.]]\n"
     ]
    }
   ],
   "source": [
    "# broadcating : 다른 차원에 대해서도 계산 가능\n",
    "matrix1 = tf.constant([[3., 3.]])\n",
    "matrix2 = tf.constant([[2.],[2.]])\n",
    "print((matrix1+matrix2).eval())\n",
    "\n",
    "print(\"=\"*100)\n",
    "matrix1 = tf.constant([[3., 3.]])\n",
    "matrix2 = tf.constant([[2., 2.]])\n",
    "print((matrix1+matrix2).eval())"
   ]
  },
  {
   "cell_type": "markdown",
   "id": "d9433f46-0683-4e7f-bfa9-6d31c7811b1a",
   "metadata": {},
   "source": [
    "# Reduce Mean/Sum"
   ]
  },
  {
   "cell_type": "code",
   "execution_count": 28,
   "id": "58e04d75-c11b-42cd-acee-87cedd504f3a",
   "metadata": {},
   "outputs": [
    {
     "name": "stdout",
     "output_type": "stream",
     "text": [
      "1\n",
      "1.5\n"
     ]
    }
   ],
   "source": [
    "# int값 입력시 계산도 int로 계산됨, float type으로 입력해야함.\n",
    "print(tf.reduce_mean([1, 2], axis=0).eval())\n",
    "print(tf.reduce_mean([1. , 2. ], axis=0).eval())"
   ]
  },
  {
   "cell_type": "code",
   "execution_count": 27,
   "id": "fc93a2f5-6af5-4655-b776-e2bdb51cff64",
   "metadata": {},
   "outputs": [
    {
     "data": {
      "text/plain": [
       "2.5"
      ]
     },
     "execution_count": 27,
     "metadata": {},
     "output_type": "execute_result"
    }
   ],
   "source": [
    "x = [[1., 2.],\n",
    "     [3., 4.]]\n",
    "tf.reduce_mean(x).eval()"
   ]
  },
  {
   "cell_type": "code",
   "execution_count": 43,
   "id": "b462a5ff-1b6f-4f3e-951c-77104d998c83",
   "metadata": {},
   "outputs": [
    {
     "name": "stdout",
     "output_type": "stream",
     "text": [
      "[2. 3.]\n",
      "[1.5 3.5]\n",
      "[1.5 3.5]\n",
      "10.0\n",
      "[4. 6.]\n",
      "[3. 7.]\n"
     ]
    }
   ],
   "source": [
    "# mean\n",
    "print(tf.reduce_mean(x, axis=0).eval()) # 열단위\n",
    "print(tf.reduce_mean(x, axis=1).eval()) # 행단위\n",
    "print(tf.reduce_mean(x, axis=-1).eval()) # 행단위\n",
    "# sum\n",
    "print(tf.reduce_sum(x).eval())\n",
    "print(tf.reduce_sum(x, axis=0).eval())\n",
    "print(tf.reduce_sum(x, axis=-1).eval())"
   ]
  },
  {
   "cell_type": "markdown",
   "id": "231a302b-b763-43b6-abcc-9b038c7f28dd",
   "metadata": {},
   "source": [
    "# Argmax with axi"
   ]
  },
  {
   "cell_type": "code",
   "execution_count": 47,
   "id": "6a731967-1b1e-4aba-8cbc-e285fa3d443b",
   "metadata": {},
   "outputs": [
    {
     "data": {
      "text/plain": [
       "array([2, 0, 0], dtype=int64)"
      ]
     },
     "execution_count": 47,
     "metadata": {},
     "output_type": "execute_result"
    }
   ],
   "source": [
    "x = [[0, 1, 2],\n",
    "     [2, 1, 0],\n",
    "     [3, 0, 0]]\n",
    "tf.argmax(x, axis=0).eval() # 값이 아닌 위치(max 값) 출력"
   ]
  },
  {
   "cell_type": "markdown",
   "id": "31797b54-70d1-43fb-aebf-d500432ba57a",
   "metadata": {},
   "source": [
    "# Reshape(squeeze, expand_dims)"
   ]
  },
  {
   "cell_type": "code",
   "execution_count": 51,
   "id": "e056d8a9-b015-44f3-81e0-f321cf630c24",
   "metadata": {},
   "outputs": [
    {
     "data": {
      "text/plain": [
       "(2, 2, 3)"
      ]
     },
     "execution_count": 51,
     "metadata": {},
     "output_type": "execute_result"
    }
   ],
   "source": [
    "t = np.array([[[0, 1, 2], \n",
    "               [3, 4, 5]],\n",
    "              \n",
    "              [[6, 7, 8], \n",
    "               [9, 10, 11]]])\n",
    "t.shape"
   ]
  },
  {
   "cell_type": "code",
   "execution_count": 52,
   "id": "c64cfcb4-aa93-4a91-ba20-e5574e8c126f",
   "metadata": {},
   "outputs": [
    {
     "data": {
      "text/plain": [
       "array([[ 0,  1,  2],\n",
       "       [ 3,  4,  5],\n",
       "       [ 6,  7,  8],\n",
       "       [ 9, 10, 11]])"
      ]
     },
     "execution_count": 52,
     "metadata": {},
     "output_type": "execute_result"
    }
   ],
   "source": [
    "tf.reshape(t, shape=[-1, 3]).eval() # -1 : 알아서???"
   ]
  },
  {
   "cell_type": "code",
   "execution_count": 53,
   "id": "63fe82a3-891d-4ec7-acf2-e7d99a4aca3b",
   "metadata": {},
   "outputs": [
    {
     "data": {
      "text/plain": [
       "array([[[ 0,  1,  2]],\n",
       "\n",
       "       [[ 3,  4,  5]],\n",
       "\n",
       "       [[ 6,  7,  8]],\n",
       "\n",
       "       [[ 9, 10, 11]]])"
      ]
     },
     "execution_count": 53,
     "metadata": {},
     "output_type": "execute_result"
    }
   ],
   "source": [
    "tf.reshape(t, shape=[-1, 1, 3]).eval()"
   ]
  },
  {
   "cell_type": "code",
   "execution_count": 54,
   "id": "de2e2570-9cb5-4b85-bb24-2f77070dae7a",
   "metadata": {},
   "outputs": [
    {
     "data": {
      "text/plain": [
       "array([0, 1, 2])"
      ]
     },
     "execution_count": 54,
     "metadata": {},
     "output_type": "execute_result"
    }
   ],
   "source": [
    "# squeeze : 차원 중 사이즈 1인 것을 찾아서 제거\n",
    "tf.squeeze([[0], [1], [2]]).eval()"
   ]
  },
  {
   "cell_type": "code",
   "execution_count": 62,
   "id": "a5c0c60a-c08c-4754-8ae5-7625c5f6ac17",
   "metadata": {},
   "outputs": [
    {
     "name": "stdout",
     "output_type": "stream",
     "text": [
      "[[0 1 2]]\n",
      "(1, 3)\n",
      "\n",
      "[[0]\n",
      " [1]\n",
      " [2]]\n",
      "(3, 1)\n"
     ]
    }
   ],
   "source": [
    "# expand_dims(x, n) : n번째 차원을 추가하여 확장\n",
    "print(tf.expand_dims([0, 1, 2], 0).eval())\n",
    "print(tf.expand_dims([0, 1, 2], 0).eval().shape)\n",
    "print()\n",
    "print(tf.expand_dims([0, 1, 2], 1).eval())\n",
    "print(tf.expand_dims([0, 1, 2], 1).eval().shape)"
   ]
  },
  {
   "cell_type": "markdown",
   "id": "ed76a3f2-8031-4eb9-88ae-209396d2a16a",
   "metadata": {},
   "source": [
    "# One hot"
   ]
  },
  {
   "cell_type": "code",
   "execution_count": 63,
   "id": "7178d1d8-f6de-4b23-9b5f-0cd27afec074",
   "metadata": {},
   "outputs": [
    {
     "data": {
      "text/plain": [
       "array([[[1., 0., 0.]],\n",
       "\n",
       "       [[0., 1., 0.]],\n",
       "\n",
       "       [[0., 0., 1.]],\n",
       "\n",
       "       [[1., 0., 0.]]], dtype=float32)"
      ]
     },
     "execution_count": 63,
     "metadata": {},
     "output_type": "execute_result"
    }
   ],
   "source": [
    "tf.one_hot([[0], [1], [2], [0]], depth=3).eval()"
   ]
  },
  {
   "cell_type": "code",
   "execution_count": 64,
   "id": "99ca07a1-66eb-4e52-99d9-282605271272",
   "metadata": {},
   "outputs": [
    {
     "data": {
      "text/plain": [
       "array([[1., 0., 0.],\n",
       "       [0., 1., 0.],\n",
       "       [0., 0., 1.],\n",
       "       [1., 0., 0.]], dtype=float32)"
      ]
     },
     "execution_count": 64,
     "metadata": {},
     "output_type": "execute_result"
    }
   ],
   "source": [
    "t = tf.one_hot([[0], [1], [2], [0]], depth=3)\n",
    "tf.reshape(t, shape=[-1, 3]).eval()"
   ]
  },
  {
   "cell_type": "markdown",
   "id": "3723c7ee-8eca-4174-b2f3-a08888de8713",
   "metadata": {},
   "source": [
    "# Casting"
   ]
  },
  {
   "cell_type": "code",
   "execution_count": 65,
   "id": "ee35d93a-3e08-4f32-9f3f-ef92cec29ed4",
   "metadata": {},
   "outputs": [
    {
     "data": {
      "text/plain": [
       "array([1, 2, 3, 4])"
      ]
     },
     "execution_count": 65,
     "metadata": {},
     "output_type": "execute_result"
    }
   ],
   "source": [
    "# int 변환\n",
    "tf.cast([1.8, 2.2, 3.3, 4.9], tf.int32).eval()"
   ]
  },
  {
   "cell_type": "code",
   "execution_count": 67,
   "id": "ae8aa4ad-ba3a-4a85-b3b9-fb13db81fe9a",
   "metadata": {},
   "outputs": [
    {
     "data": {
      "text/plain": [
       "array([1, 0, 1, 0])"
      ]
     },
     "execution_count": 67,
     "metadata": {},
     "output_type": "execute_result"
    }
   ],
   "source": [
    "# boolean -> int\n",
    "tf.cast([True, False, 1 == 1, 0 == 1], tf.int32).eval()"
   ]
  },
  {
   "cell_type": "markdown",
   "id": "cecb6912-a724-40e7-a4ba-90cb4041dca7",
   "metadata": {},
   "source": [
    "# Stack"
   ]
  },
  {
   "cell_type": "code",
   "execution_count": 68,
   "id": "00f0a306-686a-4fa5-b90f-8a261dbdaede",
   "metadata": {},
   "outputs": [
    {
     "data": {
      "text/plain": [
       "array([[1, 4],\n",
       "       [2, 5],\n",
       "       [3, 6]])"
      ]
     },
     "execution_count": 68,
     "metadata": {},
     "output_type": "execute_result"
    }
   ],
   "source": [
    "x = [1, 4]\n",
    "y = [2, 5]\n",
    "z = [3, 6]\n",
    "\n",
    "# Pack along first dim.\n",
    "tf.stack([x, y, z]).eval()"
   ]
  },
  {
   "cell_type": "code",
   "execution_count": 69,
   "id": "87ad09c9-9031-4ad8-8849-63b11d229281",
   "metadata": {},
   "outputs": [
    {
     "data": {
      "text/plain": [
       "array([[1, 2, 3],\n",
       "       [4, 5, 6]])"
      ]
     },
     "execution_count": 69,
     "metadata": {},
     "output_type": "execute_result"
    }
   ],
   "source": [
    "tf.stack([x, y, z], axis=1).eval()"
   ]
  },
  {
   "cell_type": "markdown",
   "id": "c71fad09-fe95-4587-bda7-82e9dcde6fb5",
   "metadata": {},
   "source": [
    "# Ones like and Zeros like"
   ]
  },
  {
   "cell_type": "code",
   "execution_count": 75,
   "id": "12558d35-6e85-4638-8f5d-2cd1a880eca3",
   "metadata": {},
   "outputs": [
    {
     "name": "stdout",
     "output_type": "stream",
     "text": [
      "[[1 1 1]\n",
      " [1 1 1]]\n",
      "\n",
      "[[0 0 0]\n",
      " [0 0 0]]\n"
     ]
    }
   ],
   "source": [
    "x = [[0, 1, 2],\n",
    "     [2, 1, 0]]\n",
    "\n",
    "# 동일 shape의 0 또는 1의 array\n",
    "print(tf.ones_like(x).eval())\n",
    "print()\n",
    "print(tf.zeros_like(x).eval())"
   ]
  },
  {
   "cell_type": "markdown",
   "id": "77495e1d-fe70-4a2b-9996-52552646b572",
   "metadata": {},
   "source": [
    "# Zip"
   ]
  },
  {
   "cell_type": "code",
   "execution_count": null,
   "id": "5e23eebd-6360-49ac-9883-74743107b3ec",
   "metadata": {},
   "outputs": [],
   "source": [
    "for x, y in zip([1, 2, 3], [4, 5, 6]):\n",
    "    print(x, y)"
   ]
  },
  {
   "cell_type": "code",
   "execution_count": null,
   "id": "f90a6039-cf85-4087-970b-c5ebe0b95d6a",
   "metadata": {},
   "outputs": [],
   "source": [
    "for x, y, z in zip([1, 2, 3], [4, 5, 6], [7, 8, 9]):\n",
    "    print(x, y, z)"
   ]
  },
  {
   "cell_type": "markdown",
   "id": "02f72780-01d1-4c2b-aae2-0285aa325754",
   "metadata": {},
   "source": [
    "# Random values for variable initializations"
   ]
  },
  {
   "cell_type": "code",
   "execution_count": 76,
   "id": "be87d490-309f-40f2-85c9-c274aa6f20ff",
   "metadata": {},
   "outputs": [
    {
     "name": "stdout",
     "output_type": "stream",
     "text": [
      "[0.58597755 0.55676264 0.25931567]\n",
      "[0.4934088 0.7006384]\n",
      "[[0.43208718 0.59306157 0.289109  ]\n",
      " [0.05489087 0.07509768 0.6214081 ]]\n"
     ]
    }
   ],
   "source": [
    "print(tf.random_normal([3]).eval())\n",
    "print(tf.random_uniform([2]).eval())\n",
    "print(tf.random_uniform([2, 3]).eval())"
   ]
  },
  {
   "cell_type": "markdown",
   "id": "52aa1f2d-d092-4cac-b0bb-cc30e0d74904",
   "metadata": {},
   "source": [
    "# Transpose"
   ]
  },
  {
   "cell_type": "code",
   "execution_count": 77,
   "id": "7ca495de-c13a-4b41-aacc-b8e849610523",
   "metadata": {},
   "outputs": [
    {
     "name": "stdout",
     "output_type": "stream",
     "text": [
      "(2, 2, 3)\n",
      "array([[[ 0,  1,  2],\n",
      "        [ 3,  4,  5]],\n",
      "\n",
      "       [[ 6,  7,  8],\n",
      "        [ 9, 10, 11]]])\n"
     ]
    }
   ],
   "source": [
    "t = np.array([[[0, 1, 2], [3, 4, 5]], [[6, 7, 8], [9, 10, 11]]])\n",
    "pp.pprint(t.shape)\n",
    "pp.pprint(t)"
   ]
  },
  {
   "cell_type": "code",
   "execution_count": 78,
   "id": "7ffb9012-ca46-4bd4-8d98-f328c9f4caf1",
   "metadata": {},
   "outputs": [
    {
     "name": "stdout",
     "output_type": "stream",
     "text": [
      "(2, 2, 3)\n",
      "array([[[ 0,  1,  2],\n",
      "        [ 6,  7,  8]],\n",
      "\n",
      "       [[ 3,  4,  5],\n",
      "        [ 9, 10, 11]]])\n"
     ]
    }
   ],
   "source": [
    "# [0, 1, 2] : 원래 축 그대로\n",
    "# (2, 2, 3) -> (2, 2, 3)\n",
    "t1 = tf.transpose(t, [1, 0, 2])\n",
    "pp.pprint(sess.run(t1).shape)\n",
    "pp.pprint(sess.run(t1))"
   ]
  },
  {
   "cell_type": "code",
   "execution_count": 80,
   "id": "434b62a3-448c-40e2-aa57-597a62a3dfb0",
   "metadata": {},
   "outputs": [
    {
     "name": "stdout",
     "output_type": "stream",
     "text": [
      "(2, 3, 2)\n",
      "array([[[ 0,  6],\n",
      "        [ 1,  7],\n",
      "        [ 2,  8]],\n",
      "\n",
      "       [[ 3,  9],\n",
      "        [ 4, 10],\n",
      "        [ 5, 11]]])\n"
     ]
    }
   ],
   "source": [
    "# [0, 1, 2] -> [1, 2, 0]\n",
    "# (2, 2, 3) -> (2, 3, 2)\n",
    "t2 = tf.transpose(t, [1, 2, 0])\n",
    "pp.pprint(sess.run(t2).shape)\n",
    "pp.pprint(sess.run(t2))"
   ]
  }
 ],
 "metadata": {
  "kernelspec": {
   "display_name": "Python 3",
   "language": "python",
   "name": "python3"
  },
  "language_info": {
   "codemirror_mode": {
    "name": "ipython",
    "version": 3
   },
   "file_extension": ".py",
   "mimetype": "text/x-python",
   "name": "python",
   "nbconvert_exporter": "python",
   "pygments_lexer": "ipython3",
   "version": "3.6.13"
  }
 },
 "nbformat": 4,
 "nbformat_minor": 5
}
