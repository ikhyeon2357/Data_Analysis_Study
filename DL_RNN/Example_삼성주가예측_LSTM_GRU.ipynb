{
 "cells": [
  {
   "cell_type": "markdown",
   "metadata": {
    "id": "QpJUJia4IbVS",
    "tags": []
   },
   "source": [
    "# LSTM 기반의 삼성전자 주가 예측 예제"
   ]
  },
  {
   "cell_type": "code",
   "execution_count": 1,
   "metadata": {},
   "outputs": [],
   "source": [
    "# https://www.youtube.com/watch?v=LLLVYkXJw30"
   ]
  },
  {
   "cell_type": "code",
   "execution_count": 2,
   "metadata": {
    "id": "Ah3M-kc3aZqy"
   },
   "outputs": [
    {
     "name": "stderr",
     "output_type": "stream",
     "text": [
      "2022-01-11 16:40:13.977630: W tensorflow/stream_executor/platform/default/dso_loader.cc:64] Could not load dynamic library 'libcudart.so.11.0'; dlerror: libcudart.so.11.0: cannot open shared object file: No such file or directory\n",
      "2022-01-11 16:40:13.977679: I tensorflow/stream_executor/cuda/cudart_stub.cc:29] Ignore above cudart dlerror if you do not have a GPU set up on your machine.\n"
     ]
    }
   ],
   "source": [
    "import tensorflow as tf\n",
    "import numpy as np\n",
    "import pandas as pd\n",
    "import matplotlib.pyplot as plt\n",
    "from tensorflow.keras.models import Sequential\n",
    "from tensorflow.keras.layers import Dense, Dropout\n",
    "# LSTM, GRU\n",
    "from tensorflow.keras.layers import GRU, LSTM"
   ]
  },
  {
   "cell_type": "code",
   "execution_count": 3,
   "metadata": {},
   "outputs": [
    {
     "name": "stdout",
     "output_type": "stream",
     "text": [
      "2.7.0\n"
     ]
    }
   ],
   "source": [
    "print(tf.__version__)"
   ]
  },
  {
   "cell_type": "markdown",
   "metadata": {},
   "source": [
    "# 1. Load"
   ]
  },
  {
   "cell_type": "code",
   "execution_count": 4,
   "metadata": {
    "colab": {
     "base_uri": "https://localhost:8080/",
     "height": 205
    },
    "id": "9srMq0M9fXwk",
    "outputId": "72209902-9844-4101-c2b1-357f643c3a57"
   },
   "outputs": [
    {
     "data": {
      "text/html": [
       "<div>\n",
       "<style scoped>\n",
       "    .dataframe tbody tr th:only-of-type {\n",
       "        vertical-align: middle;\n",
       "    }\n",
       "\n",
       "    .dataframe tbody tr th {\n",
       "        vertical-align: top;\n",
       "    }\n",
       "\n",
       "    .dataframe thead th {\n",
       "        text-align: right;\n",
       "    }\n",
       "</style>\n",
       "<table border=\"1\" class=\"dataframe\">\n",
       "  <thead>\n",
       "    <tr style=\"text-align: right;\">\n",
       "      <th></th>\n",
       "      <th>Date</th>\n",
       "      <th>Open</th>\n",
       "      <th>High</th>\n",
       "      <th>Low</th>\n",
       "      <th>Close</th>\n",
       "      <th>Adj Close</th>\n",
       "      <th>Volume</th>\n",
       "      <th>3MA</th>\n",
       "      <th>5MA</th>\n",
       "    </tr>\n",
       "  </thead>\n",
       "  <tbody>\n",
       "    <tr>\n",
       "      <th>0</th>\n",
       "      <td>2000-01-04</td>\n",
       "      <td>6000.0</td>\n",
       "      <td>6110.0</td>\n",
       "      <td>5660.0</td>\n",
       "      <td>6110.0</td>\n",
       "      <td>4740.119629</td>\n",
       "      <td>74195000.0</td>\n",
       "      <td>NaN</td>\n",
       "      <td>NaN</td>\n",
       "    </tr>\n",
       "    <tr>\n",
       "      <th>1</th>\n",
       "      <td>2000-01-05</td>\n",
       "      <td>5800.0</td>\n",
       "      <td>6060.0</td>\n",
       "      <td>5520.0</td>\n",
       "      <td>5580.0</td>\n",
       "      <td>4328.947754</td>\n",
       "      <td>74680000.0</td>\n",
       "      <td>NaN</td>\n",
       "      <td>NaN</td>\n",
       "    </tr>\n",
       "    <tr>\n",
       "      <th>2</th>\n",
       "      <td>2000-01-06</td>\n",
       "      <td>5750.0</td>\n",
       "      <td>5780.0</td>\n",
       "      <td>5580.0</td>\n",
       "      <td>5620.0</td>\n",
       "      <td>4359.979492</td>\n",
       "      <td>54390000.0</td>\n",
       "      <td>4476.348958</td>\n",
       "      <td>NaN</td>\n",
       "    </tr>\n",
       "    <tr>\n",
       "      <th>3</th>\n",
       "      <td>2000-01-07</td>\n",
       "      <td>5560.0</td>\n",
       "      <td>5670.0</td>\n",
       "      <td>5360.0</td>\n",
       "      <td>5540.0</td>\n",
       "      <td>4297.916992</td>\n",
       "      <td>40305000.0</td>\n",
       "      <td>4328.948079</td>\n",
       "      <td>NaN</td>\n",
       "    </tr>\n",
       "    <tr>\n",
       "      <th>4</th>\n",
       "      <td>2000-01-10</td>\n",
       "      <td>5600.0</td>\n",
       "      <td>5770.0</td>\n",
       "      <td>5580.0</td>\n",
       "      <td>5770.0</td>\n",
       "      <td>4476.349121</td>\n",
       "      <td>46880000.0</td>\n",
       "      <td>4378.081868</td>\n",
       "      <td>4440.662598</td>\n",
       "    </tr>\n",
       "  </tbody>\n",
       "</table>\n",
       "</div>"
      ],
      "text/plain": [
       "         Date    Open    High     Low   Close    Adj Close      Volume  \\\n",
       "0  2000-01-04  6000.0  6110.0  5660.0  6110.0  4740.119629  74195000.0   \n",
       "1  2000-01-05  5800.0  6060.0  5520.0  5580.0  4328.947754  74680000.0   \n",
       "2  2000-01-06  5750.0  5780.0  5580.0  5620.0  4359.979492  54390000.0   \n",
       "3  2000-01-07  5560.0  5670.0  5360.0  5540.0  4297.916992  40305000.0   \n",
       "4  2000-01-10  5600.0  5770.0  5580.0  5770.0  4476.349121  46880000.0   \n",
       "\n",
       "           3MA          5MA  \n",
       "0          NaN          NaN  \n",
       "1          NaN          NaN  \n",
       "2  4476.348958          NaN  \n",
       "3  4328.948079          NaN  \n",
       "4  4378.081868  4440.662598  "
      ]
     },
     "execution_count": 4,
     "metadata": {},
     "output_type": "execute_result"
    }
   ],
   "source": [
    "# yahoo finance data\n",
    "raw_df = pd.read_csv('/home/ubuntu/workspace/005930.KS_3MA_5MA.csv')\n",
    "\n",
    "raw_df.head()\n",
    "# Date\n",
    "# Open : 시가\n",
    "# Hight : 고가\n",
    "# Low : 저가\n",
    "# Close : 종가\n",
    "# Adj Close : Adjusted Close Price(수정 종가), 배당금 등을 반영, 과거 실적 분석에 주로 사용\n",
    "# Volumne : 거래량\n",
    "# 3MA, 5MA : 이동 평균"
   ]
  },
  {
   "cell_type": "markdown",
   "metadata": {},
   "source": [
    "# 2. 전처리"
   ]
  },
  {
   "cell_type": "code",
   "execution_count": 5,
   "metadata": {},
   "outputs": [
    {
     "data": {
      "image/png": "[encoded data removed]",
      "text/plain": [
       "<Figure size 432x288 with 1 Axes>"
      ]
     },
     "metadata": {
      "needs_background": "light"
     },
     "output_type": "display_data"
    },
    {
     "data": {
      "image/png": "[encoded data removed]",
      "text/plain": [
       "<Figure size 432x288 with 1 Axes>"
      ]
     },
     "metadata": {
      "needs_background": "light"
     },
     "output_type": "display_data"
    },
    {
     "data": {
      "image/png": "[encoded data removed]",
      "text/plain": [
       "<Figure size 432x288 with 1 Axes>"
      ]
     },
     "metadata": {
      "needs_background": "light"
     },
     "output_type": "display_data"
    },
    {
     "data": {
      "image/png": "[encoded data removed]",
      "text/plain": [
       "<Figure size 432x288 with 1 Axes>"
      ]
     },
     "metadata": {
      "needs_background": "light"
     },
     "output_type": "display_data"
    },
    {
     "data": {
      "image/png": "[encoded data removed]",
      "text/plain": [
       "<Figure size 432x288 with 1 Axes>"
      ]
     },
     "metadata": {
      "needs_background": "light"
     },
     "output_type": "display_data"
    },
    {
     "data": {
      "image/png": "[encoded data removed]",
      "text/plain": [
       "<Figure size 432x288 with 1 Axes>"
      ]
     },
     "metadata": {
      "needs_background": "light"
     },
     "output_type": "display_data"
    }
   ],
   "source": [
    "# 데이터 확인\n",
    "for i in ['Open', 'High', 'Low', 'Close', 'Adj Close', 'Volume']:\n",
    "    plt.title(i)\n",
    "    #plt.ylabel('price')\n",
    "    plt.xlabel('period')\n",
    "    plt.grid()\n",
    "    plt.plot(raw_df[i], label=i)\n",
    "    plt.show()"
   ]
  },
  {
   "cell_type": "markdown",
   "metadata": {
    "id": "iQtB5ixT-KZt"
   },
   "source": [
    "### (1) 데이터 전처리 (Missing Data 처리, 정규화 등)"
   ]
  },
  {
   "cell_type": "code",
   "execution_count": 6,
   "metadata": {
    "colab": {
     "base_uri": "https://localhost:8080/",
     "height": 319
    },
    "id": "LtXkxvPchBSW",
    "outputId": "9a8939d0-fc21-4fce-cb55-d8dfb7ce9218"
   },
   "outputs": [
    {
     "data": {
      "text/html": [
       "<div>\n",
       "<style scoped>\n",
       "    .dataframe tbody tr th:only-of-type {\n",
       "        vertical-align: middle;\n",
       "    }\n",
       "\n",
       "    .dataframe tbody tr th {\n",
       "        vertical-align: top;\n",
       "    }\n",
       "\n",
       "    .dataframe thead th {\n",
       "        text-align: right;\n",
       "    }\n",
       "</style>\n",
       "<table border=\"1\" class=\"dataframe\">\n",
       "  <thead>\n",
       "    <tr style=\"text-align: right;\">\n",
       "      <th></th>\n",
       "      <th>Open</th>\n",
       "      <th>High</th>\n",
       "      <th>Low</th>\n",
       "      <th>Close</th>\n",
       "      <th>Adj Close</th>\n",
       "      <th>Volume</th>\n",
       "      <th>3MA</th>\n",
       "      <th>5MA</th>\n",
       "    </tr>\n",
       "  </thead>\n",
       "  <tbody>\n",
       "    <tr>\n",
       "      <th>count</th>\n",
       "      <td>5389.000000</td>\n",
       "      <td>5389.000000</td>\n",
       "      <td>5389.000000</td>\n",
       "      <td>5389.000000</td>\n",
       "      <td>5389.000000</td>\n",
       "      <td>5.389000e+03</td>\n",
       "      <td>5393.000000</td>\n",
       "      <td>5391.000000</td>\n",
       "    </tr>\n",
       "    <tr>\n",
       "      <th>mean</th>\n",
       "      <td>22801.887178</td>\n",
       "      <td>23043.991464</td>\n",
       "      <td>22559.285582</td>\n",
       "      <td>22801.909445</td>\n",
       "      <td>19920.044863</td>\n",
       "      <td>2.207838e+07</td>\n",
       "      <td>19934.224878</td>\n",
       "      <td>19925.585966</td>\n",
       "    </tr>\n",
       "    <tr>\n",
       "      <th>std</th>\n",
       "      <td>17736.201238</td>\n",
       "      <td>17906.827402</td>\n",
       "      <td>17572.109940</td>\n",
       "      <td>17733.296811</td>\n",
       "      <td>17322.636387</td>\n",
       "      <td>1.564053e+07</td>\n",
       "      <td>17313.297249</td>\n",
       "      <td>17292.697383</td>\n",
       "    </tr>\n",
       "    <tr>\n",
       "      <th>min</th>\n",
       "      <td>2540.000000</td>\n",
       "      <td>2760.000000</td>\n",
       "      <td>2420.000000</td>\n",
       "      <td>2730.000000</td>\n",
       "      <td>2117.926025</td>\n",
       "      <td>0.000000e+00</td>\n",
       "      <td>2164.473877</td>\n",
       "      <td>2179.989746</td>\n",
       "    </tr>\n",
       "    <tr>\n",
       "      <th>25%</th>\n",
       "      <td>9880.000000</td>\n",
       "      <td>9990.000000</td>\n",
       "      <td>9800.000000</td>\n",
       "      <td>9900.000000</td>\n",
       "      <td>7726.937988</td>\n",
       "      <td>1.185265e+07</td>\n",
       "      <td>7726.939453</td>\n",
       "      <td>7709.871631</td>\n",
       "    </tr>\n",
       "    <tr>\n",
       "      <th>50%</th>\n",
       "      <td>15760.000000</td>\n",
       "      <td>15940.000000</td>\n",
       "      <td>15560.000000</td>\n",
       "      <td>15800.000000</td>\n",
       "      <td>12808.596680</td>\n",
       "      <td>1.803935e+07</td>\n",
       "      <td>12802.806970</td>\n",
       "      <td>12809.314840</td>\n",
       "    </tr>\n",
       "    <tr>\n",
       "      <th>75%</th>\n",
       "      <td>29280.000000</td>\n",
       "      <td>29560.000000</td>\n",
       "      <td>29000.000000</td>\n",
       "      <td>29280.000000</td>\n",
       "      <td>24566.556640</td>\n",
       "      <td>2.771475e+07</td>\n",
       "      <td>24558.166020</td>\n",
       "      <td>24555.269140</td>\n",
       "    </tr>\n",
       "    <tr>\n",
       "      <th>max</th>\n",
       "      <td>90300.000000</td>\n",
       "      <td>96800.000000</td>\n",
       "      <td>89500.000000</td>\n",
       "      <td>91000.000000</td>\n",
       "      <td>90597.414060</td>\n",
       "      <td>1.642150e+08</td>\n",
       "      <td>90033.252600</td>\n",
       "      <td>89562.014060</td>\n",
       "    </tr>\n",
       "  </tbody>\n",
       "</table>\n",
       "</div>"
      ],
      "text/plain": [
       "               Open          High           Low         Close     Adj Close  \\\n",
       "count   5389.000000   5389.000000   5389.000000   5389.000000   5389.000000   \n",
       "mean   22801.887178  23043.991464  22559.285582  22801.909445  19920.044863   \n",
       "std    17736.201238  17906.827402  17572.109940  17733.296811  17322.636387   \n",
       "min     2540.000000   2760.000000   2420.000000   2730.000000   2117.926025   \n",
       "25%     9880.000000   9990.000000   9800.000000   9900.000000   7726.937988   \n",
       "50%    15760.000000  15940.000000  15560.000000  15800.000000  12808.596680   \n",
       "75%    29280.000000  29560.000000  29000.000000  29280.000000  24566.556640   \n",
       "max    90300.000000  96800.000000  89500.000000  91000.000000  90597.414060   \n",
       "\n",
       "             Volume           3MA           5MA  \n",
       "count  5.389000e+03   5393.000000   5391.000000  \n",
       "mean   2.207838e+07  19934.224878  19925.585966  \n",
       "std    1.564053e+07  17313.297249  17292.697383  \n",
       "min    0.000000e+00   2164.473877   2179.989746  \n",
       "25%    1.185265e+07   7726.939453   7709.871631  \n",
       "50%    1.803935e+07  12802.806970  12809.314840  \n",
       "75%    2.771475e+07  24558.166020  24555.269140  \n",
       "max    1.642150e+08  90033.252600  89562.014060  "
      ]
     },
     "execution_count": 6,
     "metadata": {},
     "output_type": "execute_result"
    }
   ],
   "source": [
    "# 통계정보 확인\n",
    "\n",
    "raw_df.describe()\n",
    "# Volume = 0 : 결측 처리"
   ]
  },
  {
   "cell_type": "code",
   "execution_count": 7,
   "metadata": {
    "colab": {
     "base_uri": "https://localhost:8080/"
    },
    "id": "ExtqrJEXWjBS",
    "outputId": "8ca376cd-0ac2-4d75-8294-677768660240"
   },
   "outputs": [
    {
     "data": {
      "text/plain": [
       "Date         0\n",
       "Open         6\n",
       "High         6\n",
       "Low          6\n",
       "Close        6\n",
       "Adj Close    6\n",
       "Volume       6\n",
       "3MA          2\n",
       "5MA          4\n",
       "dtype: int64"
      ]
     },
     "execution_count": 7,
     "metadata": {},
     "output_type": "execute_result"
    }
   ],
   "source": [
    "# Missing Data 확인\n",
    "\n",
    "raw_df.isnull().sum()"
   ]
  },
  {
   "cell_type": "code",
   "execution_count": 8,
   "metadata": {
    "colab": {
     "base_uri": "https://localhost:8080/"
    },
    "id": "eJKlSQjlxvgj",
    "outputId": "86e6287c-e567-4f3c-c839-520fefc809c1"
   },
   "outputs": [],
   "source": [
    "# 통계 정보에서 이미 본거...\n",
    "# # 최소값이 0 인 column 체크\n",
    "\n",
    "# for col in raw_df.columns:\n",
    "\n",
    "#     if raw_df[col].min() == 0:\n",
    "#         col_name = col\n",
    "#         print(col_name, type(col_name))"
   ]
  },
  {
   "cell_type": "code",
   "execution_count": 9,
   "metadata": {
    "colab": {
     "base_uri": "https://localhost:8080/",
     "height": 615
    },
    "id": "-sjMP002VR5P",
    "outputId": "ac221fc0-a6c5-4d73-ec68-2f1e2562d288"
   },
   "outputs": [],
   "source": [
    "#raw_df.loc[raw_df['Volume']==0]"
   ]
  },
  {
   "cell_type": "code",
   "execution_count": 10,
   "metadata": {
    "colab": {
     "base_uri": "https://localhost:8080/"
    },
    "id": "Ac7ieaSiUkYl",
    "outputId": "bd6ea968-6cd6-4bf8-f389-adce8de58858"
   },
   "outputs": [
    {
     "name": "stdout",
     "output_type": "stream",
     "text": [
      "Date: 0\n",
      "Open: 0\n",
      "High: 0\n",
      "Low: 0\n",
      "Close: 0\n",
      "Adj Close: 0\n",
      "Volume: 116\n",
      "3MA: 0\n",
      "5MA: 0\n"
     ]
    }
   ],
   "source": [
    "# 각 column에 0 몇개인지 확인\n",
    "\n",
    "for col in raw_df.columns:\n",
    "    missing_rows = raw_df.loc[raw_df[col]==0].shape[0]\n",
    "    print(col + ': ' + str(missing_rows))"
   ]
  },
  {
   "cell_type": "code",
   "execution_count": 11,
   "metadata": {
    "colab": {
     "base_uri": "https://localhost:8080/"
    },
    "id": "EqPvPM4UVskp",
    "outputId": "2dc14df5-8ee0-44a5-bb88-1c45f547ffe7",
    "tags": []
   },
   "outputs": [
    {
     "name": "stdout",
     "output_type": "stream",
     "text": [
      "Date: 0\n",
      "Open: 0\n",
      "High: 0\n",
      "Low: 0\n",
      "Close: 0\n",
      "Adj Close: 0\n",
      "Volume: 0\n",
      "3MA: 0\n",
      "5MA: 0\n"
     ]
    }
   ],
   "source": [
    "# 먼저 0 을 NaN 으로 바꾼후, Missing Data 처리(여기에선 단순 DROP)\n",
    "\n",
    "raw_df['Volume'] = raw_df['Volume'].replace(0, np.nan)\n",
    "\n",
    "# 각 column에 0 몇개인지 확인(변경 결과 점검)\n",
    "\n",
    "for col in raw_df.columns:\n",
    "    missing_rows = raw_df.loc[raw_df[col]==0].shape[0]\n",
    "    print(col + ': ' + str(missing_rows))"
   ]
  },
  {
   "cell_type": "code",
   "execution_count": 12,
   "metadata": {
    "colab": {
     "base_uri": "https://localhost:8080/"
    },
    "id": "BJ2attPDfw3E",
    "outputId": "11e7b57e-3242-47d4-f4a5-57612a726a52"
   },
   "outputs": [
    {
     "data": {
      "text/plain": [
       "Date           0\n",
       "Open           6\n",
       "High           6\n",
       "Low            6\n",
       "Close          6\n",
       "Adj Close      6\n",
       "Volume       122\n",
       "3MA            2\n",
       "5MA            4\n",
       "dtype: int64"
      ]
     },
     "execution_count": 12,
     "metadata": {},
     "output_type": "execute_result"
    }
   ],
   "source": [
    "# missing data 확인 -> NaN값 추가됨 확인\n",
    "\n",
    "raw_df.isnull().sum()\n",
    "# raw_df.isnull().any() # any() : 데이터에 하나라도 True이면 True"
   ]
  },
  {
   "cell_type": "code",
   "execution_count": 13,
   "metadata": {
    "colab": {
     "base_uri": "https://localhost:8080/",
     "height": 237
    },
    "id": "Ves_xphWh182",
    "outputId": "8d32d8b7-7a2a-4800-892d-f5f7b2692f26"
   },
   "outputs": [
    {
     "data": {
      "text/html": [
       "<div>\n",
       "<style scoped>\n",
       "    .dataframe tbody tr th:only-of-type {\n",
       "        vertical-align: middle;\n",
       "    }\n",
       "\n",
       "    .dataframe tbody tr th {\n",
       "        vertical-align: top;\n",
       "    }\n",
       "\n",
       "    .dataframe thead th {\n",
       "        text-align: right;\n",
       "    }\n",
       "</style>\n",
       "<table border=\"1\" class=\"dataframe\">\n",
       "  <thead>\n",
       "    <tr style=\"text-align: right;\">\n",
       "      <th></th>\n",
       "      <th>Date</th>\n",
       "      <th>Open</th>\n",
       "      <th>High</th>\n",
       "      <th>Low</th>\n",
       "      <th>Close</th>\n",
       "      <th>Adj Close</th>\n",
       "      <th>Volume</th>\n",
       "      <th>3MA</th>\n",
       "      <th>5MA</th>\n",
       "    </tr>\n",
       "  </thead>\n",
       "  <tbody>\n",
       "    <tr>\n",
       "      <th>1304</th>\n",
       "      <td>2005-01-03</td>\n",
       "      <td>NaN</td>\n",
       "      <td>NaN</td>\n",
       "      <td>NaN</td>\n",
       "      <td>NaN</td>\n",
       "      <td>NaN</td>\n",
       "      <td>NaN</td>\n",
       "      <td>6989.931152</td>\n",
       "      <td>6910.412353</td>\n",
       "    </tr>\n",
       "    <tr>\n",
       "      <th>4513</th>\n",
       "      <td>2017-11-16</td>\n",
       "      <td>NaN</td>\n",
       "      <td>NaN</td>\n",
       "      <td>NaN</td>\n",
       "      <td>NaN</td>\n",
       "      <td>NaN</td>\n",
       "      <td>NaN</td>\n",
       "      <td>49382.673830</td>\n",
       "      <td>49719.997070</td>\n",
       "    </tr>\n",
       "    <tr>\n",
       "      <th>4518</th>\n",
       "      <td>2017-11-23</td>\n",
       "      <td>NaN</td>\n",
       "      <td>NaN</td>\n",
       "      <td>NaN</td>\n",
       "      <td>NaN</td>\n",
       "      <td>NaN</td>\n",
       "      <td>NaN</td>\n",
       "      <td>49373.792970</td>\n",
       "      <td>49324.969730</td>\n",
       "    </tr>\n",
       "    <tr>\n",
       "      <th>4542</th>\n",
       "      <td>2018-01-02</td>\n",
       "      <td>NaN</td>\n",
       "      <td>NaN</td>\n",
       "      <td>NaN</td>\n",
       "      <td>NaN</td>\n",
       "      <td>NaN</td>\n",
       "      <td>NaN</td>\n",
       "      <td>44927.763670</td>\n",
       "      <td>44190.302730</td>\n",
       "    </tr>\n",
       "    <tr>\n",
       "      <th>4755</th>\n",
       "      <td>2018-11-15</td>\n",
       "      <td>NaN</td>\n",
       "      <td>NaN</td>\n",
       "      <td>NaN</td>\n",
       "      <td>NaN</td>\n",
       "      <td>NaN</td>\n",
       "      <td>NaN</td>\n",
       "      <td>40569.835940</td>\n",
       "      <td>40775.886720</td>\n",
       "    </tr>\n",
       "    <tr>\n",
       "      <th>5000</th>\n",
       "      <td>2019-11-14</td>\n",
       "      <td>NaN</td>\n",
       "      <td>NaN</td>\n",
       "      <td>NaN</td>\n",
       "      <td>NaN</td>\n",
       "      <td>NaN</td>\n",
       "      <td>NaN</td>\n",
       "      <td>49695.419920</td>\n",
       "      <td>49364.432620</td>\n",
       "    </tr>\n",
       "  </tbody>\n",
       "</table>\n",
       "</div>"
      ],
      "text/plain": [
       "            Date  Open  High  Low  Close  Adj Close  Volume           3MA  \\\n",
       "1304  2005-01-03   NaN   NaN  NaN    NaN        NaN     NaN   6989.931152   \n",
       "4513  2017-11-16   NaN   NaN  NaN    NaN        NaN     NaN  49382.673830   \n",
       "4518  2017-11-23   NaN   NaN  NaN    NaN        NaN     NaN  49373.792970   \n",
       "4542  2018-01-02   NaN   NaN  NaN    NaN        NaN     NaN  44927.763670   \n",
       "4755  2018-11-15   NaN   NaN  NaN    NaN        NaN     NaN  40569.835940   \n",
       "5000  2019-11-14   NaN   NaN  NaN    NaN        NaN     NaN  49695.419920   \n",
       "\n",
       "               5MA  \n",
       "1304   6910.412353  \n",
       "4513  49719.997070  \n",
       "4518  49324.969730  \n",
       "4542  44190.302730  \n",
       "4755  40775.886720  \n",
       "5000  49364.432620  "
      ]
     },
     "execution_count": 13,
     "metadata": {},
     "output_type": "execute_result"
    }
   ],
   "source": [
    "# NaN 데이터 확인\n",
    "raw_df.loc[raw_df['Open'].isna()]"
   ]
  },
  {
   "cell_type": "code",
   "execution_count": 14,
   "metadata": {
    "colab": {
     "base_uri": "https://localhost:8080/"
    },
    "id": "eIKrl7HwjxUh",
    "outputId": "6ecc1594-76e9-46d9-d45e-e5285cbd3e1b"
   },
   "outputs": [
    {
     "data": {
      "text/plain": [
       "Date         False\n",
       "Open         False\n",
       "High         False\n",
       "Low          False\n",
       "Close        False\n",
       "Adj Close    False\n",
       "Volume       False\n",
       "3MA          False\n",
       "5MA          False\n",
       "dtype: bool"
      ]
     },
     "execution_count": 14,
     "metadata": {},
     "output_type": "execute_result"
    }
   ],
   "source": [
    "# missing data Drop\n",
    "# null값 사용시 학습 안됨\n",
    "\n",
    "raw_df = raw_df.dropna()\n",
    "#raw_df.isnull().sum()\n",
    "raw_df.isnull().any()"
   ]
  },
  {
   "cell_type": "markdown",
   "metadata": {},
   "source": [
    "### (2) 표준화"
   ]
  },
  {
   "cell_type": "code",
   "execution_count": 15,
   "metadata": {
    "colab": {
     "base_uri": "https://localhost:8080/"
    },
    "id": "pWjPDWKXz1Ap",
    "outputId": "e5a4b2fa-7ad6-4c20-8918-891148c16650",
    "tags": []
   },
   "outputs": [
    {
     "name": "stdout",
     "output_type": "stream",
     "text": [
      "          Open      High       Low     Close  Adj Close       3MA       5MA  \\\n",
      "0     0.034868  0.032008  0.036288  0.034440   0.026655  0.025192  0.025698   \n",
      "1     0.037375  0.035517  0.038470  0.034440   0.026655  0.025634  0.025094   \n",
      "2     0.034982  0.031689  0.036518  0.033873   0.026217  0.026163  0.025343   \n",
      "3     0.034868  0.031689  0.036059  0.033760   0.026129  0.025987  0.025503   \n",
      "4     0.036235  0.033177  0.037437  0.035120   0.027181  0.026163  0.026018   \n",
      "...        ...       ...       ...       ...        ...       ...       ...   \n",
      "5264  0.891750  0.830923  0.896647  0.881047   0.885878  0.895299  0.903144   \n",
      "5265  0.892890  0.834113  0.897795  0.885578   0.890399  0.894920  0.900854   \n",
      "5266  0.899727  0.841557  0.903537  0.895774   0.900571  0.897955  0.902457   \n",
      "5267  0.895169  0.835177  0.898944  0.885578   0.890399  0.899472  0.902228   \n",
      "5268  0.895169  0.833050  0.896647  0.881047   0.885878  0.897955  0.901083   \n",
      "\n",
      "        Volume  \n",
      "0     0.285359  \n",
      "1     0.363715  \n",
      "2     0.177799  \n",
      "3     0.250704  \n",
      "4     0.300555  \n",
      "...        ...  \n",
      "5264  0.064088  \n",
      "5265  0.061199  \n",
      "5266  0.091190  \n",
      "5267  0.085145  \n",
      "5268  0.090683  \n",
      "\n",
      "[5269 rows x 8 columns]\n"
     ]
    }
   ],
   "source": [
    "# 정규화 (Date 제외한 모든 수치부분 정규화)\n",
    "# Min, Max 표준화\n",
    "\n",
    "from sklearn.preprocessing import MinMaxScaler\n",
    "\n",
    "scaler = MinMaxScaler()\n",
    "scale_cols = ['Open', 'High', 'Low', 'Close', 'Adj Close','3MA', '5MA', 'Volume']\n",
    "scaled_df = scaler.fit_transform(raw_df[scale_cols])\n",
    "scaled_df = pd.DataFrame(scaled_df, columns=scale_cols)\n",
    "\n",
    "print(scaled_df)"
   ]
  },
  {
   "cell_type": "markdown",
   "metadata": {},
   "source": [
    "# 3. Train"
   ]
  },
  {
   "cell_type": "markdown",
   "metadata": {},
   "source": [
    "### (1) Train Data"
   ]
  },
  {
   "cell_type": "code",
   "execution_count": 16,
   "metadata": {
    "id": "xB3BIwF-nPrw"
   },
   "outputs": [
    {
     "name": "stdout",
     "output_type": "stream",
     "text": [
      "(5269, 3) (5269, 1)\n"
     ]
    }
   ],
   "source": [
    "# feature_df, label_df 생성\n",
    "feature_cols = [ '3MA', '5MA', 'Adj Close' ]\n",
    "label_cols = [ 'Adj Close' ]\n",
    "\n",
    "feature_df = pd.DataFrame(scaled_df, columns=feature_cols)\n",
    "label_df = pd.DataFrame(scaled_df, columns=label_cols)\n",
    "\n",
    "# DataFrame => Numpy 변환\n",
    "feature_np = feature_df.to_numpy()\n",
    "label_np = label_df.to_numpy()\n",
    "\n",
    "print(feature_np.shape, label_np.shape)"
   ]
  },
  {
   "cell_type": "code",
   "execution_count": 17,
   "metadata": {
    "id": "_Dekc31jpHlz"
   },
   "outputs": [],
   "source": [
    "# 입력 파라미터 feature, label => numpy type\n",
    "\n",
    "def make_sequene_dataset(feature, label, window_size):\n",
    "    feature_list = []      # 생성될 feature list\n",
    "    label_list = []        # 생성될 label list\n",
    "    \n",
    "    for i in range(len(feature)-window_size):\n",
    "        feature_list.append(feature[i:i+window_size])\n",
    "        label_list.append(label[i+window_size])\n",
    "\n",
    "    return np.array(feature_list), np.array(label_list)"
   ]
  },
  {
   "cell_type": "code",
   "execution_count": 18,
   "metadata": {
    "colab": {
     "base_uri": "https://localhost:8080/"
    },
    "id": "aCTkuL3bn_8-",
    "outputId": "5e11f5a8-f38f-4d95-8ddf-26220bb7d614"
   },
   "outputs": [
    {
     "name": "stdout",
     "output_type": "stream",
     "text": [
      "(5229, 40, 3) (5229, 1)\n"
     ]
    }
   ],
   "source": [
    "# 시계열 데이터 생성 (make_sequence_dataset)\n",
    "# 시계열 데이터를 위한 window_size = 40 선정\n",
    "window_size = 40\n",
    "\n",
    "X, Y = make_sequene_dataset(feature_np, label_np, window_size)\n",
    "\n",
    "print(X.shape, Y.shape)\n",
    "# X.shape = (5229, 40, 3) = (batch size, time step, input dims)"
   ]
  },
  {
   "cell_type": "code",
   "execution_count": 19,
   "metadata": {},
   "outputs": [
    {
     "data": {
      "text/plain": [
       "array([0.02797024])"
      ]
     },
     "execution_count": 19,
     "metadata": {},
     "output_type": "execute_result"
    }
   ],
   "source": [
    "Y[0] # 41번째 Adj Close"
   ]
  },
  {
   "cell_type": "code",
   "execution_count": 20,
   "metadata": {},
   "outputs": [
    {
     "data": {
      "text/plain": [
       "array([0.02592795, 0.02647956, 0.02797024])"
      ]
     },
     "execution_count": 20,
     "metadata": {},
     "output_type": "execute_result"
    }
   ],
   "source": [
    "X[1][39] # 전체 period 기준 41"
   ]
  },
  {
   "cell_type": "code",
   "execution_count": 21,
   "metadata": {},
   "outputs": [
    {
     "data": {
      "text/plain": [
       "array([[0.0251922 , 0.02569814, 0.02665503],\n",
       "       [0.02563365, 0.02509431, 0.02665503],\n",
       "       [0.02616339, 0.02534295, 0.02621662],\n",
       "       [0.02598681, 0.02550278, 0.02612894],\n",
       "       [0.02616339, 0.02601781, 0.02718112],\n",
       "       [0.02728174, 0.02660388, 0.0295485 ],\n",
       "       [0.02842951, 0.02718994, 0.0295485 ],\n",
       "       [0.0288121 , 0.02761618, 0.02832097],\n",
       "       [0.02863553, 0.02820225, 0.02902244],\n",
       "       [0.02798808, 0.02829105, 0.02761953],\n",
       "       [0.02722289, 0.02758066, 0.02604126],\n",
       "       [0.02545707, 0.02640853, 0.02376156],\n",
       "       [0.02427987, 0.02555607, 0.02411228],\n",
       "       [0.02375012, 0.02463256, 0.02446299],\n",
       "       [0.02486847, 0.02452601, 0.02709345],\n",
       "       [0.02516277, 0.02431289, 0.02498909],\n",
       "       [0.02457417, 0.02409978, 0.02270939],\n",
       "       [0.02289665, 0.02369131, 0.02209562],\n",
       "       [0.0215723 , 0.02299869, 0.02104345],\n",
       "       [0.02098369, 0.02116944, 0.02200792],\n",
       "       [0.02186659, 0.0213648 , 0.02367388],\n",
       "       [0.02360297, 0.0221995 , 0.02621662],\n",
       "       [0.02513334, 0.02331835, 0.02656734],\n",
       "       [0.02592795, 0.02433065, 0.02604126],\n",
       "       [0.02492732, 0.02457928, 0.02323547],\n",
       "       [0.02327924, 0.02417081, 0.0216572 ],\n",
       "       [0.02121913, 0.02289212, 0.01990359],\n",
       "       [0.02033622, 0.02168447, 0.02060503],\n",
       "       [0.02063053, 0.02097408, 0.02253402],\n",
       "       [0.02083654, 0.02042354, 0.02051736],\n",
       "       [0.02095426, 0.02028146, 0.02095577],\n",
       "       [0.02048337, 0.02053009, 0.02113111],\n",
       "       [0.02048337, 0.02051234, 0.02051736],\n",
       "       [0.02048337, 0.02019266, 0.02095577],\n",
       "       [0.01948276, 0.01971315, 0.01814997],\n",
       "       [0.01962991, 0.01971315, 0.02095577],\n",
       "       [0.02280836, 0.02111617, 0.02761953],\n",
       "       [0.02539821, 0.02267901, 0.02867168],\n",
       "       [0.02692858, 0.02417082, 0.02551517],\n",
       "       [0.02616339, 0.02505879, 0.02533981]])"
      ]
     },
     "execution_count": 21,
     "metadata": {},
     "output_type": "execute_result"
    }
   ],
   "source": [
    "X[0] # 각각 [ '3MA', '5MA', 'Adj Close' ]"
   ]
  },
  {
   "cell_type": "code",
   "execution_count": 22,
   "metadata": {
    "colab": {
     "base_uri": "https://localhost:8080/"
    },
    "id": "pDekSzzpoIiO",
    "outputId": "c468f44f-1d94-4d2b-8d13-e273b5ed4c8f"
   },
   "outputs": [
    {
     "name": "stdout",
     "output_type": "stream",
     "text": [
      "(5029, 40, 3) (5029, 1)\n",
      "(200, 40, 3) (200, 1)\n"
     ]
    }
   ],
   "source": [
    "# train, test 분리 : 끝 200일을 Test 데이터로\n",
    "\n",
    "#split = int(len(X)*0.95)\n",
    "split = -200\n",
    "\n",
    "x_train = X[0:split]\n",
    "y_train = Y[0:split]\n",
    "\n",
    "x_test = X[split:]\n",
    "y_test = Y[split:]\n",
    "\n",
    "print(x_train.shape, y_train.shape)\n",
    "print(x_test.shape, y_test.shape)"
   ]
  },
  {
   "cell_type": "markdown",
   "metadata": {},
   "source": [
    "# 4. Train"
   ]
  },
  {
   "cell_type": "markdown",
   "metadata": {},
   "source": [
    "### (1) LSTM"
   ]
  },
  {
   "cell_type": "code",
   "execution_count": 24,
   "metadata": {
    "id": "s66hRSnAoK0D"
   },
   "outputs": [
    {
     "name": "stderr",
     "output_type": "stream",
     "text": [
      "2022-01-11 16:41:00.503373: W tensorflow/stream_executor/platform/default/dso_loader.cc:64] Could not load dynamic library 'libcuda.so.1'; dlerror: libcuda.so.1: cannot open shared object file: No such file or directory\n",
      "2022-01-11 16:41:00.503414: W tensorflow/stream_executor/cuda/cuda_driver.cc:269] failed call to cuInit: UNKNOWN ERROR (303)\n",
      "2022-01-11 16:41:00.503433: I tensorflow/stream_executor/cuda/cuda_diagnostics.cc:156] kernel driver does not appear to be running on this host (b9e1efe7664d): /proc/driver/nvidia/version does not exist\n",
      "2022-01-11 16:41:00.503599: I tensorflow/core/platform/cpu_feature_guard.cc:151] This TensorFlow binary is optimized with oneAPI Deep Neural Network Library (oneDNN) to use the following CPU instructions in performance-critical operations:  AVX2 FMA\n",
      "To enable them in other operations, rebuild TensorFlow with the appropriate compiler flags.\n"
     ]
    }
   ],
   "source": [
    "# model 생성\n",
    "\n",
    "model_lstm = Sequential()\n",
    "\n",
    "model_lstm.add(LSTM(128 # Node의 수\n",
    "               , activation='tanh' # 활성 함수\n",
    "               , input_shape=x_train[0].shape # input shape (40, 3)\n",
    "              )\n",
    "         )\n",
    "\n",
    "# 출력층\n",
    "model_lstm.add(Dense(1\n",
    "                , activation='linear'\n",
    "               )\n",
    "         )"
   ]
  },
  {
   "cell_type": "code",
   "execution_count": 25,
   "metadata": {
    "colab": {
     "base_uri": "https://localhost:8080/"
    },
    "id": "yBlP2iimoNay",
    "outputId": "efbb3881-2d1c-4102-f0a1-cb54f0b80827"
   },
   "outputs": [
    {
     "name": "stdout",
     "output_type": "stream",
     "text": [
      "Model: \"sequential\"\n",
      "_________________________________________________________________\n",
      " Layer (type)                Output Shape              Param #   \n",
      "=================================================================\n",
      " lstm (LSTM)                 (None, 128)               67584     \n",
      "                                                                 \n",
      " dense (Dense)               (None, 1)                 129       \n",
      "                                                                 \n",
      "=================================================================\n",
      "Total params: 67,713\n",
      "Trainable params: 67,713\n",
      "Non-trainable params: 0\n",
      "_________________________________________________________________\n"
     ]
    }
   ],
   "source": [
    "model_lstm.compile(loss='mse'\n",
    "              , optimizer='adam'\n",
    "              , metrics=['mae']\n",
    "             )\n",
    "\n",
    "model_lstm.summary()"
   ]
  },
  {
   "cell_type": "code",
   "execution_count": 26,
   "metadata": {},
   "outputs": [
    {
     "data": {
      "text/plain": [
       "67584"
      ]
     },
     "execution_count": 26,
     "metadata": {},
     "output_type": "execute_result"
    }
   ],
   "source": [
    "# Parameter 수\n",
    "# 참고 : https://medium.com/deep-learning-with-keras/lstm-understanding-the-number-of-parameters-c4e087575756\n",
    "# 참고 : https://towardsdatascience.com/counting-no-of-parameters-in-deep-learning-models-by-hand-8f1716241889\n",
    "# num_params = g × [h(h+i) + h]\n",
    "# g, no. of FFNNs in a unit (RNN has 1, GRU has 3, LSTM has 4)\n",
    "# h, size of hidden units\n",
    "# i, dimension/size of input\n",
    "\n",
    "4 * (128*(128 + 3) + 128)\n",
    "\n",
    "# 중요 : Time Step은 영향 없음 -> same “W”, “U”, and “b” are shared throughout the time-step"
   ]
  },
  {
   "cell_type": "code",
   "execution_count": 27,
   "metadata": {
    "colab": {
     "base_uri": "https://localhost:8080/"
    },
    "id": "xpAYLcPHoPUd",
    "outputId": "f164a48b-7565-4e50-d8d7-3ea619363e5d"
   },
   "outputs": [
    {
     "name": "stdout",
     "output_type": "stream",
     "text": [
      "Epoch 1/100\n",
      "315/315 [==============================] - 11s 30ms/step - loss: 3.1209e-04 - mae: 0.0089 - val_loss: 0.0010 - val_mae: 0.0225\n",
      "Epoch 2/100\n",
      "315/315 [==============================] - 9s 29ms/step - loss: 8.7707e-05 - mae: 0.0062 - val_loss: 5.6600e-04 - val_mae: 0.0169\n",
      "Epoch 3/100\n",
      "315/315 [==============================] - 9s 29ms/step - loss: 7.4924e-05 - mae: 0.0057 - val_loss: 0.0014 - val_mae: 0.0309\n",
      "Epoch 4/100\n",
      "315/315 [==============================] - 9s 29ms/step - loss: 6.6377e-05 - mae: 0.0053 - val_loss: 0.0011 - val_mae: 0.0267\n",
      "Epoch 5/100\n",
      "315/315 [==============================] - 9s 29ms/step - loss: 5.9304e-05 - mae: 0.0052 - val_loss: 5.7709e-04 - val_mae: 0.0176\n",
      "Epoch 6/100\n",
      "315/315 [==============================] - 9s 29ms/step - loss: 5.8215e-05 - mae: 0.0051 - val_loss: 3.2432e-04 - val_mae: 0.0130\n",
      "Epoch 7/100\n",
      "315/315 [==============================] - 9s 29ms/step - loss: 5.1470e-05 - mae: 0.0048 - val_loss: 3.9364e-04 - val_mae: 0.0141\n",
      "Epoch 8/100\n",
      "315/315 [==============================] - 9s 29ms/step - loss: 4.4167e-05 - mae: 0.0044 - val_loss: 2.7553e-04 - val_mae: 0.0117\n",
      "Epoch 9/100\n",
      "315/315 [==============================] - 9s 29ms/step - loss: 4.0875e-05 - mae: 0.0043 - val_loss: 3.0864e-04 - val_mae: 0.0122\n",
      "Epoch 10/100\n",
      "315/315 [==============================] - 9s 28ms/step - loss: 3.7561e-05 - mae: 0.0042 - val_loss: 4.2867e-04 - val_mae: 0.0159\n",
      "Epoch 11/100\n",
      "315/315 [==============================] - 9s 28ms/step - loss: 3.5037e-05 - mae: 0.0040 - val_loss: 6.9521e-04 - val_mae: 0.0221\n",
      "Epoch 12/100\n",
      "315/315 [==============================] - 9s 27ms/step - loss: 3.4481e-05 - mae: 0.0040 - val_loss: 4.5716e-04 - val_mae: 0.0169\n",
      "Epoch 13/100\n",
      "315/315 [==============================] - 9s 27ms/step - loss: 3.2314e-05 - mae: 0.0038 - val_loss: 2.2050e-04 - val_mae: 0.0105\n",
      "Epoch 14/100\n",
      "315/315 [==============================] - 9s 27ms/step - loss: 3.1148e-05 - mae: 0.0038 - val_loss: 2.7570e-04 - val_mae: 0.0122\n",
      "Epoch 15/100\n",
      "315/315 [==============================] - 9s 27ms/step - loss: 3.1068e-05 - mae: 0.0038 - val_loss: 2.8913e-04 - val_mae: 0.0127\n",
      "Epoch 16/100\n",
      "315/315 [==============================] - 9s 27ms/step - loss: 2.7885e-05 - mae: 0.0036 - val_loss: 7.2690e-04 - val_mae: 0.0232\n",
      "Epoch 17/100\n",
      "315/315 [==============================] - 9s 27ms/step - loss: 3.0316e-05 - mae: 0.0037 - val_loss: 2.0569e-04 - val_mae: 0.0102\n",
      "Epoch 18/100\n",
      "315/315 [==============================] - 9s 27ms/step - loss: 2.6880e-05 - mae: 0.0035 - val_loss: 1.8476e-04 - val_mae: 0.0101\n",
      "Epoch 19/100\n",
      "315/315 [==============================] - 9s 27ms/step - loss: 2.7207e-05 - mae: 0.0035 - val_loss: 2.3260e-04 - val_mae: 0.0110\n",
      "Epoch 20/100\n",
      "315/315 [==============================] - 9s 27ms/step - loss: 2.6848e-05 - mae: 0.0035 - val_loss: 1.8631e-04 - val_mae: 0.0099\n",
      "Epoch 21/100\n",
      "315/315 [==============================] - 9s 27ms/step - loss: 2.8340e-05 - mae: 0.0036 - val_loss: 2.2332e-04 - val_mae: 0.0107\n",
      "Epoch 22/100\n",
      "315/315 [==============================] - 9s 27ms/step - loss: 2.9717e-05 - mae: 0.0037 - val_loss: 2.6195e-04 - val_mae: 0.0120\n",
      "Epoch 23/100\n",
      "315/315 [==============================] - 9s 27ms/step - loss: 2.8000e-05 - mae: 0.0035 - val_loss: 1.8688e-04 - val_mae: 0.0102\n"
     ]
    },
    {
     "data": {
      "text/plain": [
       "<keras.callbacks.History at 0x7fac985aafd0>"
      ]
     },
     "execution_count": 27,
     "metadata": {},
     "output_type": "execute_result"
    }
   ],
   "source": [
    "# Early Stop & Training\n",
    "\n",
    "from tensorflow.keras.callbacks import EarlyStopping\n",
    "\n",
    "early_stop = EarlyStopping(monitor='val_loss', patience=5)\n",
    "# 'val_loss' : Validation상의 loss\n",
    "# patience : 성능향상이 없는 epoch 수\n",
    "\n",
    "model_lstm.fit(x_train, y_train, \n",
    "          validation_data=(x_test, y_test),\n",
    "          epochs=100, batch_size=16,\n",
    "          callbacks=[early_stop])"
   ]
  },
  {
   "cell_type": "markdown",
   "metadata": {
    "tags": []
   },
   "source": [
    "### (2) LSTM 결과"
   ]
  },
  {
   "cell_type": "code",
   "execution_count": 28,
   "metadata": {},
   "outputs": [
    {
     "name": "stdout",
     "output_type": "stream",
     "text": [
      "(3, 512)\n",
      "(128, 512)\n",
      "(512,)\n",
      "(128, 1)\n",
      "(1,)\n"
     ]
    }
   ],
   "source": [
    "# Parameter Weight\n",
    "for weight in model_lstm.get_weights(): # weights from Dense layer omitted\n",
    "    print(weight.shape)"
   ]
  },
  {
   "cell_type": "code",
   "execution_count": null,
   "metadata": {},
   "outputs": [],
   "source": [
    "# 정규화 (Date 제외한 모든 수치부분 정규화)\n",
    "# Min, Max 표준화\n",
    "\n",
    "from sklearn.preprocessing import MinMaxScaler\n",
    "\n",
    "scaler = MinMaxScaler()\n",
    "scale_cols = ['Open', 'High', 'Low', 'Close', 'Adj Close','3MA', '5MA', 'Volume']\n",
    "scaled_df = scaler.fit_transform(raw_df[scale_cols])\n",
    "scaled_df = pd.DataFrame(scaled_df, columns=scale_cols)\n",
    "\n",
    "print(scaled_df)"
   ]
  },
  {
   "cell_type": "code",
   "execution_count": 46,
   "metadata": {},
   "outputs": [
    {
     "data": {
      "text/plain": [
       "array([[0.02665503],\n",
       "       [0.02665503],\n",
       "       [0.02621662],\n",
       "       ...,\n",
       "       [0.90057115],\n",
       "       [0.8903993 ],\n",
       "       [0.88587848]])"
      ]
     },
     "execution_count": 46,
     "metadata": {},
     "output_type": "execute_result"
    }
   ],
   "source": [
    "sc = MinMaxScaler()\n",
    "sc.fit_transform(raw_df[['Adj Close']])"
   ]
  },
  {
   "cell_type": "code",
   "execution_count": 48,
   "metadata": {
    "colab": {
     "base_uri": "https://localhost:8080/",
     "height": 395
    },
    "id": "iUUCbGgQoSQ1",
    "outputId": "332d3e48-e096-4148-ebc9-35b7d4f05b3b"
   },
   "outputs": [
    {
     "data": {
      "image/png": "[encoded data removed]",
      "text/plain": [
       "<Figure size 864x432 with 1 Axes>"
      ]
     },
     "metadata": {
      "needs_background": "light"
     },
     "output_type": "display_data"
    }
   ],
   "source": [
    "pred = model_lstm.predict(x_test)\n",
    "\n",
    "plt.figure(figsize=(12, 6))\n",
    "plt.title('3MA + 5MA + Adj Close, window_size=40')\n",
    "plt.ylabel('adj close')\n",
    "plt.xlabel('period')\n",
    "#plt.plot(y_test, label='actual')\n",
    "plt.plot(sc.inverse_transform(y_test), label='actual')\n",
    "#plt.plot(pred, label='prediction')\n",
    "plt.plot(sc.inverse_transform(pred), label='prediction')\n",
    "plt.grid()\n",
    "plt.legend(loc='best')\n",
    "\n",
    "plt.show()"
   ]
  },
  {
   "cell_type": "code",
   "execution_count": 51,
   "metadata": {
    "colab": {
     "base_uri": "https://localhost:8080/"
    },
    "id": "3rpiFjKRoZlk",
    "outputId": "6224ac98-867b-48f3-87cf-fb18835c3fd4"
   },
   "outputs": [
    {
     "name": "stdout",
     "output_type": "stream",
     "text": [
      "0.012767025317367744\n"
     ]
    }
   ],
   "source": [
    "# 평균절대값백분율오차계산 (MAPE)\n",
    "print( np.sum(abs(y_test-pred)/y_test) / len(x_test) )"
   ]
  },
  {
   "cell_type": "markdown",
   "metadata": {},
   "source": [
    "### (3) GRU"
   ]
  },
  {
   "cell_type": "code",
   "execution_count": 34,
   "metadata": {},
   "outputs": [],
   "source": [
    "# model 생성\n",
    "\n",
    "model_gru = Sequential()\n",
    "\n",
    "model_gru.add(GRU(256\n",
    "              , activation='tanh'\n",
    "              , input_shape=x_train[0].shape))\n",
    "\n",
    "model_gru.add(Dense(1\n",
    "                , activation='linear'))\n",
    "\n"
   ]
  },
  {
   "cell_type": "code",
   "execution_count": 36,
   "metadata": {},
   "outputs": [
    {
     "name": "stdout",
     "output_type": "stream",
     "text": [
      "Model: \"sequential_2\"\n",
      "_________________________________________________________________\n",
      " Layer (type)                Output Shape              Param #   \n",
      "=================================================================\n",
      " gru_1 (GRU)                 (None, 256)               200448    \n",
      "                                                                 \n",
      " dense_2 (Dense)             (None, 1)                 257       \n",
      "                                                                 \n",
      "=================================================================\n",
      "Total params: 200,705\n",
      "Trainable params: 200,705\n",
      "Non-trainable params: 0\n",
      "_________________________________________________________________\n"
     ]
    }
   ],
   "source": [
    "model_gru.compile(loss='mse', optimizer='adam', metrics=['mae'])\n",
    "model_gru.summary()"
   ]
  },
  {
   "cell_type": "code",
   "execution_count": 37,
   "metadata": {},
   "outputs": [
    {
     "data": {
      "text/plain": [
       "200448"
      ]
     },
     "execution_count": 37,
     "metadata": {},
     "output_type": "execute_result"
    }
   ],
   "source": [
    "# Parameter 수\n",
    "\n",
    "# num_params = 2 × g × [h(h+i) + h] (first term is 2 because of bidirectionality) ??????????? 양방향이면 h*2 아닌가?????\n",
    "# g, no. of FFNNs in a unit (RNN has 1, GRU has 3, LSTM has 4)\n",
    "# h, size of hidden units\n",
    "# i, dimension/size of input\n",
    "\n",
    "3 * (256*(256 + 3) + 256*2)"
   ]
  },
  {
   "cell_type": "code",
   "execution_count": 38,
   "metadata": {},
   "outputs": [
    {
     "name": "stdout",
     "output_type": "stream",
     "text": [
      "Epoch 1/100\n",
      "315/315 [==============================] - 13s 39ms/step - loss: 3.9879e-04 - mae: 0.0084 - val_loss: 4.2139e-04 - val_mae: 0.0156\n",
      "Epoch 2/100\n",
      "315/315 [==============================] - 12s 38ms/step - loss: 5.4845e-05 - mae: 0.0050 - val_loss: 3.8047e-04 - val_mae: 0.0136\n",
      "Epoch 3/100\n",
      "315/315 [==============================] - 12s 37ms/step - loss: 5.0206e-05 - mae: 0.0048 - val_loss: 2.8898e-04 - val_mae: 0.0120\n",
      "Epoch 4/100\n",
      "315/315 [==============================] - 12s 37ms/step - loss: 4.5014e-05 - mae: 0.0046 - val_loss: 3.2785e-04 - val_mae: 0.0128\n",
      "Epoch 5/100\n",
      "315/315 [==============================] - 12s 37ms/step - loss: 4.2589e-05 - mae: 0.0045 - val_loss: 2.4157e-04 - val_mae: 0.0116\n",
      "Epoch 6/100\n",
      "315/315 [==============================] - 12s 39ms/step - loss: 3.8305e-05 - mae: 0.0042 - val_loss: 2.4239e-04 - val_mae: 0.0109\n",
      "Epoch 7/100\n",
      "315/315 [==============================] - 12s 39ms/step - loss: 3.5672e-05 - mae: 0.0040 - val_loss: 3.8234e-04 - val_mae: 0.0151\n",
      "Epoch 8/100\n",
      "315/315 [==============================] - 12s 37ms/step - loss: 3.2834e-05 - mae: 0.0038 - val_loss: 2.7185e-04 - val_mae: 0.0134\n",
      "Epoch 9/100\n",
      "315/315 [==============================] - 12s 38ms/step - loss: 3.7470e-05 - mae: 0.0042 - val_loss: 2.0484e-04 - val_mae: 0.0108\n",
      "Epoch 10/100\n",
      "315/315 [==============================] - 12s 39ms/step - loss: 3.3192e-05 - mae: 0.0040 - val_loss: 2.0909e-04 - val_mae: 0.0103\n",
      "Epoch 11/100\n",
      "315/315 [==============================] - 12s 39ms/step - loss: 3.0759e-05 - mae: 0.0038 - val_loss: 3.4035e-04 - val_mae: 0.0142\n",
      "Epoch 12/100\n",
      "315/315 [==============================] - 12s 39ms/step - loss: 3.2565e-05 - mae: 0.0039 - val_loss: 4.3459e-04 - val_mae: 0.0168\n",
      "Epoch 13/100\n",
      "315/315 [==============================] - 12s 39ms/step - loss: 3.3809e-05 - mae: 0.0040 - val_loss: 2.3678e-04 - val_mae: 0.0124\n",
      "Epoch 14/100\n",
      "315/315 [==============================] - 12s 39ms/step - loss: 2.9568e-05 - mae: 0.0037 - val_loss: 2.0098e-04 - val_mae: 0.0101\n",
      "Epoch 15/100\n",
      "315/315 [==============================] - 12s 38ms/step - loss: 2.8500e-05 - mae: 0.0037 - val_loss: 1.8394e-04 - val_mae: 0.0098\n",
      "Epoch 16/100\n",
      "315/315 [==============================] - 12s 37ms/step - loss: 3.1913e-05 - mae: 0.0039 - val_loss: 1.8658e-04 - val_mae: 0.0102\n",
      "Epoch 17/100\n",
      "315/315 [==============================] - 12s 39ms/step - loss: 3.4435e-05 - mae: 0.0040 - val_loss: 1.8405e-04 - val_mae: 0.0099\n",
      "Epoch 18/100\n",
      "315/315 [==============================] - 12s 39ms/step - loss: 3.1631e-05 - mae: 0.0038 - val_loss: 1.8440e-04 - val_mae: 0.0099\n",
      "Epoch 19/100\n",
      "315/315 [==============================] - 13s 42ms/step - loss: 3.1526e-05 - mae: 0.0039 - val_loss: 1.9889e-04 - val_mae: 0.0108\n",
      "Epoch 20/100\n",
      "315/315 [==============================] - 12s 38ms/step - loss: 2.9110e-05 - mae: 0.0037 - val_loss: 4.0558e-04 - val_mae: 0.0172\n"
     ]
    },
    {
     "data": {
      "text/plain": [
       "<keras.callbacks.History at 0x7fac587a9690>"
      ]
     },
     "execution_count": 38,
     "metadata": {},
     "output_type": "execute_result"
    }
   ],
   "source": [
    "from tensorflow.keras.callbacks import EarlyStopping\n",
    "\n",
    "early_stop = EarlyStopping(monitor='val_loss', patience=5)\n",
    "\n",
    "model_gru.fit(x_train, y_train, \n",
    "          validation_data=(x_test, y_test),\n",
    "          epochs=100, batch_size=16,\n",
    "          callbacks=[early_stop])"
   ]
  },
  {
   "cell_type": "markdown",
   "metadata": {},
   "source": [
    "# GRU 결과"
   ]
  },
  {
   "cell_type": "code",
   "execution_count": 39,
   "metadata": {},
   "outputs": [
    {
     "name": "stdout",
     "output_type": "stream",
     "text": [
      "(3, 768)\n",
      "(256, 768)\n",
      "(2, 768)\n",
      "(256, 1)\n",
      "(1,)\n"
     ]
    }
   ],
   "source": [
    "# Parameter Weight\n",
    "for weight in model_gru.get_weights(): # weights from Dense layer omitted\n",
    "    print(weight.shape)"
   ]
  },
  {
   "cell_type": "code",
   "execution_count": 40,
   "metadata": {},
   "outputs": [
    {
     "data": {
      "image/png": "[encoded data removed]",
      "text/plain": [
       "<Figure size 864x432 with 1 Axes>"
      ]
     },
     "metadata": {
      "needs_background": "light"
     },
     "output_type": "display_data"
    }
   ],
   "source": [
    "pred = model_gru.predict(x_test)\n",
    "\n",
    "plt.figure(figsize=(12, 6))\n",
    "plt.title('3MA + 5MA + Adj Close, window_size=40')\n",
    "plt.ylabel('adj close')\n",
    "plt.xlabel('period')\n",
    "plt.plot(y_test, label='actual')\n",
    "plt.plot(pred, label='prediction')\n",
    "plt.grid()\n",
    "plt.legend(loc='best')\n",
    "\n",
    "plt.show()"
   ]
  },
  {
   "cell_type": "code",
   "execution_count": 41,
   "metadata": {},
   "outputs": [
    {
     "name": "stdout",
     "output_type": "stream",
     "text": [
      "0.021291229235817558\n"
     ]
    }
   ],
   "source": [
    "# 평균절대값백분율오차계산 (MAPE)\n",
    "\n",
    "print( np.sum(abs(y_test-pred)/y_test) / len(x_test) )"
   ]
  },
  {
   "cell_type": "code",
   "execution_count": null,
   "metadata": {},
   "outputs": [],
   "source": []
  }
 ],
 "metadata": {
  "accelerator": "GPU",
  "colab": {
   "collapsed_sections": [],
   "name": "TF_2_x_LEC_21_LSTM_Example.ipynb",
   "provenance": []
  },
  "kernelspec": {
   "display_name": "Python 3 (ipykernel)",
   "language": "python",
   "name": "python3"
  },
  "language_info": {
   "codemirror_mode": {
    "name": "ipython",
    "version": 3
   },
   "file_extension": ".py",
   "mimetype": "text/x-python",
   "name": "python",
   "nbconvert_exporter": "python",
   "pygments_lexer": "ipython3",
   "version": "3.7.11"
  }
 },
 "nbformat": 4,
 "nbformat_minor": 4
}
